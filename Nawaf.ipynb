#
## Driving License Management System
#


# temp = open("temp.txt", "w")
# people = open("Person.txt", "w")
# temp.close()
# people.close()

def main():
    main_menu_choice = 0 
    while main_menu_choice != "Exit":
        main_menu()
        main_menu_choice = input("Enter your selected option (By the number except Exit option):\n")
        #Adding new person
        if main_menu_choice == "1":
            adding_person()
        elif main_menu_choice == "2":
            print()
            sort_sub_menu()
            print()
            sort_option = input("Choose an option of sorting: ")
            all_persons(sort_option)
        elif main_menu_choice == "3":
            Displaying_information_of_a_specific_person()
            sub_menu2()
            
            
            
                
def main_menu():
    print("#" * 67)
    print("%50s" % "Driving License Management System")
    print("1. Add New Person")
    print("2. Display Information for All Persons")
    print("3. Display Information for A Specific Person (Update – Delete)")
    print("4. Issue/Renew License")
    print("5. Display Licenses Information")
    print("6. Display Expired-Soon Licenses Information")
    print("7. Exit")
    print("#" * 67)
    
def adding_person():
    temp = open("temp.txt", "w")
    people = open("Person.txt", "r")
    id_number = input("Enter identification number: ").strip()
    if len(id_number) == 4 : 
        if not(id_number in people.read()):
            temp.write(str(id_number)+"\n")
            first_name = input("Enter the first name :").strip()
            if first_name.isalpha():
                temp.write(str(first_name.capitalize())+"\n")
                last_name = input("Enter the last name: ").strip()
                if last_name.isalpha():
                    temp.write(str(last_name.capitalize())+"\n")
                    gender = input("Enter the gender: ").upper().strip()
                    if gender == "MALE" or gender == "FEMALE":
                        temp.write(str(gender)+"\n")
                        nationality = input("Enter the nationality: ").strip()
                        if nationality.isalpha():
                            temp.write(str(nationality.capitalize())+"\n")
                            address = input("Enter the address: ").strip()
                            temp.write(str(address.capitalize())+"\n")
                            date_of_birth = input("Enter the Date of birth: ").strip()
                            x = date_of_birth.split("/")
                            try:
                                if int(x[0]) > 0 and int(x[0]) <=30 and int(x[1]) > 0 and int(x[1]) <=12 and int(x[2]) > 1900 and int(x[2]) <= 2004:
                                    temp.write(str(date_of_birth)+"\n")
                                    possible_blood_type = ["A+", "A-", "B+", "B-", "O+", "O-", "AB+" , "AB-"]
                                    blood_group = input("Enter the blood type: ").strip().upper()
                                    if blood_group in possible_blood_type: 
                                        temp.write(str(blood_group)+"\n")
                                        mobile_number = input("Enter the mobile number: ").strip()
                                        if len(mobile_number) == 10:
                                            if not(mobile_number in people.read()):
                                                temp.write(str(mobile_number)+"\n")
                                                temp.close()
                                                people.close()
                                                temp = open("temp.txt", "r")
                                                people = open("Person.txt", "a")
                                                people.write(temp.read())
                                                temp.close()
                                                people.close()
                                                print("The new person has been added succesfully")
                                            else: 
                                                print("This mobile number does already exists")
                                        else: 
                                            print("The mobile number must consist of 10 digits")

                                    else: 
                                        print("Invalid bloode type")
                                else: 
                                    print("Invalid date of birth")
                            except ValueError as ve:
                                print('You are supposed to enter a correct date of birth format')
                            
                        else:
                            print("Invalid nationality")
                    else: 
                        print("Invalid gender")
                else: 
                    print("Invalid last name")
            else: 
                print("invalid first name")
        else:
            print("This ID number is already exists")
            
    else: 
        print("ID number must consist of two numbers")
    
def  all_persons(sort_option):
    #Opening the files and preparing the lines 
    infile = open("Person.txt","r")
    list1 = infile.readlines()
    
    if sort_option == "1": 
        print()
        print("-"*125)
        print("ID",end ="")
        print("%21s"%"FirstName",end ="")
        print("%13s"%"LastName",end ="")
        print("%12s"%"Gender",end ="")
        print("%19s"%"Nationality",end ="")
        print("%10s"%"Address",end ="")
        print("%10s"%"DOB",end ="")
        print("%22s"%"Group_Blood",end ="")
        print("%9s"%"Mobile",end ="")
        print()
        
        infile = open("Person.txt","r")
        list1 = infile.readlines()

        postion_of_ID = {}
        for i in range(len(list1)):

            if list1[i].rstrip().isnumeric():
                if len(list1[i].rstrip()) == 4:
                    postion_of_ID[i] = int(list1[i])
                    postion_of_ID = {key: value for key, value in sorted(postion_of_ID.items(), key=lambda item: item[1])}
                else:
                    True
        
        for i in postion_of_ID:
            x = 0
            for i in range(i, i +9):
                print("%-14s"%list1[i].rstrip(), end = "")
                x+=1
                if x ==9:
                    print()
                    x = 0
        print("-"*125)
        print()
    if sort_option == "2":
        print()
        print("-"*125)
        print("FirstName",end ="")
        print("%15s"%"LastName",end ="")
        print("%7s"%"ID",end ="")
        print("%12s"%"Gender",end ="")
        print("%16s"%"Nationality",end ="")
        print("%10s"%"Address",end ="")
        print("%10s"%"DOB",end ="")
        print("%22s"%"Group_Blood",end ="")
        print("%9s"%"Mobile")
        infile = open("Person.txt","r")
        list1 = []
        for i in infile: 
            list1.append(i)

        postion_of_ID = {}
        newlist = []
        for i in range(len(list1)):  
            newlist.append(str(list1[i].replace("\n", "")))  

        for i in range(1,len(newlist)+1,9):
              postion_of_ID[i] = newlist[i]
              postion_of_ID = {key: value for key, value in sorted(postion_of_ID.items(), key=lambda item: item[1])}
        else:
            True
        key_list = list(postion_of_ID.keys())
        
        for i in key_list:
            print("%-16s"%postion_of_ID[i],end = "")
            print("%-13s"%newlist[i+1], end = "")
            print("%-8s"%newlist[i-1], end = "")
            print("%-11s"%newlist[i+2], end = "")
            print("%-14s"%newlist[i+3], end = "")
            print("%-14s"%newlist[i+4], end = "")
            print("%-14s"%newlist[i+5], end = "")
            print("%-14s"%newlist[i+6], end = "")
            print(newlist[i+7])
        print("-"*125)
        print()

    if sort_option =="3":
        print()
        print("-"*125)
        print("Nationality",end ="")
        print("%5s"%"ID",end ="")
        print("%18s"%"FirstName",end ="")
        print("%13s"%"LastName",end ="")
        print("%12s"%"Gender",end ="")
        print("%15s"%"Address",end ="")
        print("%10s"%"DOB",end ="")
        print("%22s"%"Group_Blood",end ="")
        print("%9s"%"Mobile")
        
        infile = open("Person.txt","r")
        list1 = []
        for i in infile: 
            list1.append(i)

        postion_of_ID = {}
        newlist = []
        for i in range(len(list1)):  
            newlist.append(str(list1[i].replace("\n", "")))  

        for i in range(4,len(newlist)+1,9):
              postion_of_ID[i] = newlist[i]
              postion_of_ID = {key: value for key, value in sorted(postion_of_ID.items(), key=lambda item: item[1])}
        else:
            True

        key_list = list(postion_of_ID.keys())
        for i in key_list:
            print("%-14s"%postion_of_ID[i],end = "")
            print("%-11s"%newlist[i-4], end = "")
            print("%-14s"%newlist[i-3], end = "")
            print("%-14s"%newlist[i-2], end = "")
            print("%-14s"%newlist[i-1], end = "")
            print("%-14s"%newlist[i+1], end = "")
            print("%-14s"%newlist[i+2], end = "")
            print("%-14s"%newlist[i+3], end = "")
            print("%-10s"%newlist[i+4])
        print("-"*125)
        print()
    
    if sort_option == "4":
        print()
        print("-"*125)
        print("Group_Blood",end ="")
        print("%5s"% "ID",end ="")
        print("%18s"%"FirstName",end ="")
        print("%13s"%"LastName",end ="")
        print("%12s"%"Gender",end ="")
        print("%19s"%"Nationality",end ="")
        print("%10s"%"Address",end ="")
        print("%10s"%"DOB",end ="")
        print("%17s"%"Mobile")

        infile = open("Person.txt","r")
        list1 = []
        for i in infile: 
            list1.append(i)

        postion_of_ID = {}
        newlist = []
        for i in range(len(list1)):  
            newlist.append(str(list1[i].replace("\n", "")))  

        for i in range(7,len(newlist)+1,9):
              postion_of_ID[i] = newlist[i]
              postion_of_ID = {key: value for key, value in sorted(postion_of_ID.items(), key=lambda item: item[1])}
        else:
            True

        key_list = list(postion_of_ID.keys())
        for i in key_list:
            print("%-14s"%postion_of_ID[i],end = "")
            print("%-11s"%newlist[i-7], end = "")
            print("%-14s"%newlist[i-6], end = "")
            print("%-14s"%newlist[i-5], end = "")
            print("%-14s"%newlist[i-4], end = "")
            print("%-14s"%newlist[i-3], end = "")
            print("%-14s"%newlist[i-2], end = "")
            print("%-14s"%newlist[i-1], end = "")
            print("%-10s"%newlist[i+1])
        print("-"*125)
        print()


def sort_sub_menu():
    print("#" * 67)
    print("Choose an option (By the number): ")
    print("1. Sort by ID")
    print("2. Sort by First Name")
    print("3. Sort by Nationality")
    print("4. Sort by Blood Group")
    print("#" * 67)
    
def Displaying_information_of_a_specific_person():    
    try:
        id_info=input("Enter the person's ID: ")
        infile = open("Person.txt","r")
        list1 = infile.readlines()
        newlist = []
        print()
        print("-"*67)
        print("The informatio of the specific ID",id_info)
        for i in range(len(list1)): 
            newlist.append(str(list1[i].replace("\n", "")))
            
        index = newlist.index(id_info)
    
        list2=["ID: ","First Name: ","Last Name: ","Gender: ","Nationality: ","Address: ","DOB: ","Blood Group: "]
        j = 0
        for i in list2:
            print(i,end = "")
            print(newlist[index+j])
            j +=1
        print("-"*67)
        print()
            
    except ValueError:
        print("ID does not exists")

def sub_menu2():
    print("1.    ",end="")
    print("Update person information")
    print("2.    ",end="")
    print("Delete person information")
    print("3.    ",end="")
    print("Export User Record")
    print("0.    ",end="")
    print("Back to the main menu")
    print()
    
    sub_menu2_option = input("Choose which option do you prefer: ")
    
    if sub_menu2_option == "1":
        mobile_number = input("Enter the number: ") 
        index_mobile_number_list = newlist.index(mobile_number)
        print("Current First Name: ", newlist[index_mobile_number_list-7])
        change_to = input("Enter new First Name: ")
        if change_to == "":
            False
        if change_to != "":
            newlist[index_mobile_number_list-7] = change_to
        print("Current Last Name: ", newlist[index_mobile_number_list-6])
        change_to = input("Enter new Last Name: ")
        if change_to == "":
            False
        if change_to != "":
            newlist[index_mobile_number_list-6] = change_to
        print("Current Address: ", newlist[index_mobile_number_list-3])
        change_to = input("Enter new Address: ")
        if change_to == "":
            False
        if change_to != "":
            newlist[index_mobile_number_list-3] = change_to
        print("Current Gender: ", newlist[index_mobile_number_list-5])
        change_to = input("Enter new Gender: ")
        if change_to == "":
            False
        if change_to != "":
            newlist[index_mobile_number_list-5] = change_to

        with open('Person.txt', 'w') as fp:
            for item in newlist:
                # write each item on a new line
                fp.write("%s\n" % item)  
        
    if sub_menu2_option == "2":
        infile = open("Person.txt", "r")
        list1 = infile.readlines()
        newlist = []
        for i in range(len(list1)): 
            newlist.append(str(list1[i].replace("\n", "")))

        mobile_number = input("Enter the number: ")
        index_mobile_number_list = newlist.index(mobile_number)

        for i in range(9):
            newlist.pop(index_mobile_number_list-8)


        with open('Person.txt', 'w') as f:
            for line in newlist:
                f.write("%s\n" % line)

    if sub_menu2_option == "3":
        id_info=input("Enter the person's ID: ")
        infile = open("Person.txt","r")
        list1 = infile.readlines()
        newlist = []
        for i in range(len(list1)): 
            newlist.append(str(list1[i].replace("\n", "")))

        print()
        print("-"*67)
        index = newlist.index(id_info)

        list2=["ID: ","First Name: ","Last Name: ","Gender: ","Nationality: ","Address: ","DOB: ","Blood Group: "]
        j = 0
        list1763=[]
        for i in list2:
            list1763.append(i+newlist[index+j])
            j+=1
        with open(str(newlist[index+1])+".txt", 'w') as fp:
            for item in list1763:
                fp.write("%s\n" % item)

        #Go back to and change the three options to make it accept four more.
        
main()
#UNFINISHED WORK
